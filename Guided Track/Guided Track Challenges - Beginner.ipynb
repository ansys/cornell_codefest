{
 "cells": [
  {
   "cell_type": "markdown",
   "id": "31fe88ba",
   "metadata": {},
   "source": [
    "# Guided Track: Beginner Challenges\n",
    "\n",
    "The Guided track consists of two sets of starting challenges: the Beginner challenges (these) and the Intermediate challenges. Once these are completed and verified by a judge a team may move onto the final open-ended challenge of the track.\n",
    "\n",
    "Both sets of challenges can be completed in any order except for challenges that require completion of other challenges. However, each challenge set must be verified completed before each team can start work on the next stage.\n",
    "\n",
    "Although we have assumed you'll work through these in order!\n",
    "\n",
    "## Note on `jupyter notebooks`\n",
    "\n",
    "If you are new to jupyter notebooks (like this one) I recommend watching this video that Ansys made for their Introduction to Python Course that covers the bvasics of their use. See [here](https://youtu.be/Eqq0ZRW8_BM?t=190)\n",
    "\n",
    "## Note on file paths\n",
    "\n",
    "For various legacy reasons, file paths on Windows and Unix (Mac/Linux) are written slightly differently. On Windows backslashes `\\` separate directories, but on Unix forward slashes `/` are used. When using file paths in these notebooks, make sure you are using the correct notation for your OS. If you are in AnsysLab, then you should use forward slashes exclusively!\n",
    "\n",
    "Windows:\n",
    "```\n",
    "C:\\Users\\Yourname\\Documents\\file.zip\n",
    "```\n",
    "\n",
    "Unix\n",
    "```\n",
    "/usr/Yourname/Documents/file.zip\n",
    "```\n",
    "\n",
    "Another quirk to note is that in Python the backslash is the \"escape\" character. For example, the \"newline\" character is an escaped n `\\n`, and the \"tab\" character is an escaped t `\\t`. Thus, when you want to use the backslash in a file path you must escape each use of the character. As such, the file path seen above ends up looking like the following when used in Python on Windows:\n",
    "\n",
    "```\n",
    "C:\\\\Users\\\\Yourname\\\\Documents\\\\file.zip\n",
    "```\n",
    "\n",
    "> There are various ways around this in Python, as well as measures that have been introduced to make handling them easier. [`pathlib`](https://realpython.com/python-pathlib/) is one such package I recommend using if you are so inclined, but it is well beyond the scope of these challenges."
   ]
  },
  {
   "cell_type": "markdown",
   "id": "06d91d0c",
   "metadata": {},
   "source": [
    "## Challenge #1 - It's my function\n",
    "\n",
    "[Functions](https://realpython.com/defining-your-own-python-function/) are everywhere in Python.\n",
    "\n",
    "Create a function that dynamically (during execution) asks for the users input and prints whatever they write to screen.\n",
    "\n",
    "\n",
    "You will also need to know how to prompt the user for input using the [`input`](https://realpython.com/python-input-output/) keyword."
   ]
  },
  {
   "cell_type": "code",
   "execution_count": null,
   "id": "7c8834e6",
   "metadata": {},
   "outputs": [],
   "source": [
    "# Enter your answer here"
   ]
  },
  {
   "cell_type": "markdown",
   "id": "46a67003",
   "metadata": {},
   "source": [
    "## Challenge #2 - NumPy Arrays\n",
    "\n",
    "NumPy is a numerical Python package that works a lot like MATLAB in many ways. In particular it allows Python to work with arrays in ways very similar to how you'd work with MATLAB arrays.\n",
    "\n",
    "In the next cell you are given two arrays `x` and `a`. \n",
    "\n",
    "* Multiply the `x` array by 3.\n",
    "* Subtract 3.\n",
    "* Multiply it by itself\n",
    "* Add it to itself\n",
    "* Create a new array (`y`) of [zeros](https://numpy.org/doc/stable/reference/generated/numpy.zeros.html) that is 3 x 3 in shape.\n",
    "    * Multiply your starting array by this one. What happens?\n",
    "* Create another new array `z` this time using [`zeros_like`](https://numpy.org/doc/stable/reference/generated/numpy.zeros_like.html#numpy.zeros_like) and base it on our starting array\n",
    "    * If you equate this to our starting array what happens? (`z == x`)\n",
    "* Index `x` with this, what do we get? (i.e. run `x[z==x]`)\n",
    "* Finally, index the array `a` with the same values, what do you get?\n"
   ]
  },
  {
   "cell_type": "code",
   "execution_count": null,
   "id": "76d70877",
   "metadata": {},
   "outputs": [],
   "source": [
    "import numpy as np\n",
    "\n",
    "\n",
    "x = np.array([0., 1., 2., 3., 4., 5.])\n",
    "a = np.array(['a', 'b', 'c', 'd', 'e', 'f'])\n",
    "\n",
    "# Enter your answer here"
   ]
  },
  {
   "cell_type": "markdown",
   "id": "1da97c57",
   "metadata": {},
   "source": [
    "## Challenge #3 - Completely Loopy\n",
    "\n",
    "In the following cell you are given two arrays containing all the possible x and y coordinates of a square grid, respectively. Calculate which coordinates fall within the radius of a circle of radius 1 and centre (0, 0) and populate the list `coords_in_circle` with tuples of each coord (e.g. one coordinate will be `(0., 0.)`). The subsequent cell should execute without errors once you have a correct answer!\n",
    "\n",
    "See [here](https://realpython.com/python-for-loop/) and [here](https://realpython.com/courses/python-conditional-statements/) for information about the syntax you'll need!"
   ]
  },
  {
   "cell_type": "code",
   "execution_count": null,
   "id": "b96b5b56",
   "metadata": {},
   "outputs": [],
   "source": [
    "import numpy as np\n",
    "\n",
    "xticks = np.linspace(-1, 1, 100)\n",
    "yticks = np.linspace(-1, 1, 90)\n",
    "\n",
    "coords_in_circle = []"
   ]
  },
  {
   "cell_type": "code",
   "execution_count": null,
   "id": "9ec32f31",
   "metadata": {},
   "outputs": [],
   "source": [
    "assert len(coords_in_circle) == 6912"
   ]
  },
  {
   "cell_type": "markdown",
   "id": "b5411339",
   "metadata": {},
   "source": [
    "## Challenge #4 - Comprehensively Loopy\n",
    "\n",
    "In Python you can actually construct lists by performing for loops *inside* the list construction.\n",
    "\n",
    "For example the following two code snippets are equivalent:\n",
    "\n",
    "```Python\n",
    "my_list = []\n",
    "for i in range(10):\n",
    "    my_list.append(i)\n",
    "```\n",
    "\n",
    "```Python\n",
    "my_list = [i for i in range(10)]\n",
    "```\n",
    "\n",
    "Even better, the second one is *faster*. \n",
    "\n",
    "Convert the following loops to comprehensions. See [RealPython](https://realpython.com/list-comprehension-python/) for more info.\n",
    "\n",
    "A)\n",
    "```Python\n",
    "new_list = []\n",
    "for h in [(2, 1), (2, 4), (2, 3)]:\n",
    "    new_list.append(h[1])\n",
    "```\n",
    "\n",
    "B)\n",
    "```Python\n",
    "new_list = []\n",
    "for h in [1, 2, 3]:\n",
    "    for k in [4, 5, 6]:\n",
    "        new_list.append((h, k))\n",
    "```\n",
    "\n",
    "C)\n",
    "```Python\n",
    "new_list = []\n",
    "for i in range(10):\n",
    "    if i < 5:\n",
    "        new_list.append(i)\n",
    "```\n",
    "\n",
    "D)\n",
    "```Python\n",
    "new_list = []\n",
    "for i in range(10):\n",
    "    if i < 5:\n",
    "        new_list.append(i)\n",
    "    else:\n",
    "        new_list.append('')\n",
    "```\n",
    "\n",
    "E)\n",
    "```Python\n",
    "new_list = []\n",
    "for i in range(10):\n",
    "    if i < 7:\n",
    "        # \"%\" is the modulo operator and returns the remainder of the division\n",
    "        # So \"i % 2 == 0\" means \"is i divisible by 2\"\n",
    "        if i % 2 == 0:\n",
    "            new_list.append(i)\n",
    "        else:\n",
    "            new_list.append('')\n",
    "```"
   ]
  },
  {
   "cell_type": "code",
   "execution_count": null,
   "id": "7abfa4a2",
   "metadata": {},
   "outputs": [],
   "source": []
  },
  {
   "cell_type": "markdown",
   "id": "f49302a1",
   "metadata": {},
   "source": [
    "## Challenge 5/3a - Do Over\n",
    "\n",
    "Rewrite your answer to Challenge 3 using comprehensions"
   ]
  },
  {
   "cell_type": "code",
   "execution_count": null,
   "id": "70f146f8",
   "metadata": {},
   "outputs": [],
   "source": [
    "# Enter your answer here"
   ]
  },
  {
   "cell_type": "markdown",
   "id": "095c11b0",
   "metadata": {},
   "source": [
    "## Challenge 6 - Read a Dictionary!\n",
    "\n",
    "Dictionaries are vitally important in Python and are constructed using curly braces and key - value pairs.\n",
    "\n",
    "They look like this:\n",
    "\n",
    "```Python\n",
    "my_dict = {\"key\": \"value\"}\n",
    "```\n",
    "\n",
    "And the values are accessed like so.\n",
    "\n",
    "```Python\n",
    ">>> my_dict[\"key\"]\n",
    "\"value\"\n",
    "```\n",
    "\n",
    "You can not access a key: value pair that doesn't exist, but you *can* set one!\n",
    "\n",
    "```Python\n",
    ">>> my_dict[\"new key\"] = 10\n",
    "```\n",
    "\n",
    "You can also check whether a key is in a dictionary using the `in` keyword. \n",
    "\n",
    "```Python\n",
    ">>> \"key\" in my_dict\n",
    "True\n",
    "```\n",
    "\n",
    "> This is also true for lists, tuples, and sets, but it is particularlyt fast for sets and dictionaries because the keys are [hashed](https://stackoverflow.com/a/17586126/6094596).\n",
    "\n",
    "Dicitonaries, like lists and sets in Python are mutable and can be edited in place.\n",
    "\n",
    "Merge the two dictionaries below into one. Members of `b` should take precendence over members of `a`."
   ]
  },
  {
   "cell_type": "code",
   "execution_count": null,
   "id": "319b15a9",
   "metadata": {},
   "outputs": [],
   "source": [
    "a = {'a': 1., 'b': 2., 'c': 3.}\n",
    "b = {'c': 90., 'd': 34.}\n",
    "\n",
    "# Enter your answer here"
   ]
  },
  {
   "cell_type": "code",
   "execution_count": null,
   "id": "0c783423",
   "metadata": {},
   "outputs": [],
   "source": [
    "assert your_answer == {'a': 1., 'b': 2., 'c': 90., 'd': 34.}"
   ]
  },
  {
   "cell_type": "markdown",
   "id": "00753a73",
   "metadata": {},
   "source": [
    "## Challenge 7 - Not All Keys are Created Equal\n",
    "\n",
    "In a dictionary only *hashable* objects can be keys (see: https://stackoverflow.com/a/17586126/6094596).\n",
    "\n",
    "Determine which of the following are hashable and thus can be dictionary keys:\n",
    "\n",
    "* lists\n",
    "* integers\n",
    "* floats\n",
    "* tuples\n",
    "* dicitonaries\n",
    "* numpy arrays\n",
    "\n",
    "\n",
    "Even if you can use integers and floats as keys in a dictionary, you generally shouldn't, why do you think this is?"
   ]
  },
  {
   "cell_type": "code",
   "execution_count": null,
   "id": "f3c0af52",
   "metadata": {},
   "outputs": [],
   "source": [
    "# Enter your answer here"
   ]
  },
  {
   "cell_type": "markdown",
   "id": "32be59ea",
   "metadata": {},
   "source": [
    "## Challenge #8 - Λ\n",
    "\n",
    "Another useful scripting tool in Python is `lambda`. It is a keyword that lets you create mini functions that are not assigned to anything. These functions are just designed to be passed to something else, or used to filter data.\n",
    "\n",
    "Its use looks like this:\n",
    "\n",
    "```Python\n",
    ">>> f = lambda x: x*x\n",
    ">>> f(2)\n",
    "4\n",
    "```\n",
    "\n",
    "However, one of its best usecases is when you want to reduce the arguments required by a function by one (or more). To do so, you just need to create a lambda that takes the arguments you want to fix, and then in the body call the function you want to reduce the arguments for.\n",
    "\n",
    "E.g.\n",
    "\n",
    "```Python\n",
    ">>> def func(a, b):\n",
    ">>>     return sum([a, b])\n",
    ">>> \n",
    ">>> new = lambda x: func(x, 1)\n",
    ">>> new(3)\n",
    "4\n",
    "```\n",
    "\n",
    "Below, I have written a short script that plots some sinusoids. \n",
    "\n",
    "* Write a lambda that fixes the axes and the x input arguments for `plot_sinusoidal_wave` \n",
    "* Call the new function for values of `m = [1., 2., 3.]` "
   ]
  },
  {
   "cell_type": "code",
   "execution_count": null,
   "id": "b659dae0",
   "metadata": {},
   "outputs": [],
   "source": [
    "%matplotlib inline\n",
    "import matplotlib.pyplot as plt\n",
    "import numpy as np\n",
    "\n",
    "\n",
    "\n",
    "def plot_sinusoidal_wave(x, m, ax):\n",
    "    ax.plot(x, np.sin(x*m), linestyle=' ', marker='o', mfc='None')\n",
    "    \n",
    "    \n",
    "x = np.linspace(0, np.pi*2., 100)\n",
    "fig = plt.figure()\n",
    "ax = fig.add_subplot(111)\n",
    "plot_sinusoidal_wave(x, 1., ax)"
   ]
  },
  {
   "cell_type": "markdown",
   "id": "a07323bf",
   "metadata": {},
   "source": [
    "## Challenge #9 - Setting up for success!\n",
    "\n",
    "\n",
    "Sets in Python are an often-overlooked collection, which is shame because they are very useful. They operate like dictionaries, without values. They are unique, hashable, unordered, collections of objects.\n",
    "\n",
    "They are denoted by curly braces and comma-separated values, like lists.\n",
    "\n",
    "```Python\n",
    "a = {1, 2, 3}\n",
    "```\n",
    "\n",
    "Common set methods apply to them as well, such as `intersection` or `union`. You can also do comprehensions with them!\n",
    "\n",
    "```Python\n",
    "new_set = {i for i in range(10)}\n",
    "```\n",
    "\n",
    "Going back to Challenge 3\n",
    "\n",
    "> In the following cell you are given two arrays containing all the possible x and y coordinates of a square grid, respectively. Calculate which coordinates fall within the radius of a circle of radius 1 and centre (0, 0) and populate the list coords_in_circle with tuples of each coord (e.g. one coordinate will be (0., 0.)). \n",
    "\n",
    "* Now you should perform the task again, but this time use sets to get the unique set of x coordinates that are in the circle (including on the edge).\n",
    "    * e.g. if you have a circle of radius 1, centred on the origin and cells were just 1 unit of measurement in width, then the coords in the circle would be (0, 0), (0, 1), (0, -1), (-1, 0), (1, 0) and the unique set of x-coords would be {-1, 0, 1}. They are the only x-coordinates in the circle!\n",
    "* Rewrite this as a comprehension\n",
    "* Do the same for y. "
   ]
  },
  {
   "cell_type": "code",
   "execution_count": null,
   "id": "0b7b1b2d",
   "metadata": {},
   "outputs": [],
   "source": [
    "import numpy as np\n",
    "\n",
    "xticks = np.linspace(-1, 1, 100)\n",
    "yticks = np.linspace(-1, 1, 90)\n",
    "\n",
    "coords_in_circle = []"
   ]
  },
  {
   "cell_type": "markdown",
   "id": "2b2b4d59",
   "metadata": {},
   "source": [
    "## Challenge 10 - splat!\n",
    "\n",
    "In Python you can unpack a collection like a list or a tuple into a set of predefined inputs using the splat operator `*` ([yes it really is called that](https://stackoverflow.com/a/2322384/6094596)). However it can't be used everywhere. It is mainly used in situations like the following, where a collection needs to be unpacked into arguments.\n",
    "\n",
    "```Python\n",
    "def func(a, b, c):\n",
    "    return sum([a, b, c])\n",
    "\n",
    "d = [1, 2, 3]\n",
    "sum_ = func(*d)\n",
    "print(sum_)\n",
    "```\n",
    "\n",
    "* Try running the code above in its own cell and testing it works.\n",
    "* What happens if you add another element to `d`?\n",
    "* What about if `d` only has two elements?\n",
    "    * In this case is it possible to add in the missing arguments somehow?\n",
    "* If `d` is a dicitonary what happens?\n",
    "    * Use the keys `\"a\"`, `\"b\"` and `\"c\"`, so you have `d = {'a': 1, 'b': 2, 'c': 3}`\n",
    "    * What if you now do the double splat? Aka. `**`\n",
    "    * What if we change the keys to something else?\n",
    "    * What if we only change one key?\n",
    "    * What's going on?\n",
    "    \n",
    "> The splat operator is an unusual one, and not something you come across often, but it is incredibly useful when working with things you don't fully understand because of its versatility. For example, it is actually most often used in function definitions where you don't know (or aren't sure) which arguments the function may receive. Such a functions definition would look like this.\n",
    ">\n",
    "> ```Python\n",
    "> def func(*args, **kwargs):\n",
    ">     # do things\n",
    "> ```\n",
    ">\n",
    "> This means you can pass *any* arguments you want to `func` and it will handle it (provided they obey standard function argument rules). Any regular arguments will appear in the `args` list and any keyword arguments (hence \"kwarrgs\") will appear in `kwargs`, which will be a dictionary!"
   ]
  },
  {
   "cell_type": "code",
   "execution_count": null,
   "id": "19e884b1",
   "metadata": {},
   "outputs": [],
   "source": [
    "def func(a, b, c):\n",
    "    return sum([a, b, c])\n",
    "\n",
    "d = [1, 2, 3]\n",
    "sum_ = func(*d)\n",
    "print(sum_)"
   ]
  },
  {
   "cell_type": "markdown",
   "id": "6a89114a",
   "metadata": {},
   "source": [
    "# Challenge #11 - `*args, **kwargs`"
   ]
  },
  {
   "cell_type": "markdown",
   "id": "111f5f2e",
   "metadata": {},
   "source": [
    "The “`*`” wildcard/\"splat\" operator (or notation) can be used in a function’s arguments when the number of arguments being passed in a function is unknown. In Python, `*args` is a non keyword argument that allows us to pass a variable number of arguments to a function.\n",
    "\n",
    "Write a function `dynamic_systems()` that (ostensibly) takes one parameter, `*args`, and prints each argument on a newline. Feed it the strings `\"System\"`, `\"dynamics\"`, and `\"control\"` as arguments. The output should look like this:\n",
    "\n",
    " ```\n",
    " System\n",
    " dynamics\n",
    " control\n",
    " ```\n"
   ]
  },
  {
   "cell_type": "code",
   "execution_count": null,
   "id": "448ce8c1",
   "metadata": {},
   "outputs": [],
   "source": [
    "# Enter your answer here"
   ]
  },
  {
   "cell_type": "markdown",
   "id": "e802a158",
   "metadata": {},
   "source": [
    "Like `*args`, `**kwargs` also lets a function receive a variable number of arguments, though those arguments need to be keyword arguments (hence **KW**args -KeyWord args-), and passed in as key value pairs when calling the function. Eg:\n",
    "\n",
    "```Python\n",
    "def my_kwarg_function(**kwargs):\n",
    "    # a function\n",
    "    pass\n",
    "\n",
    "\n",
    "my_kwarg_function(first_name=\"Cisco\", last_name=\"Ramon\")\n",
    "```\n",
    "\n",
    "If you run the above function, what type of object is `kwargs`?\n",
    "\n",
    "Write a function `major_and_gpa` that uses `**kwargs*`  and prints to screen a string saying the name, major, and GPA of a person. The name, major and GPA should be provided as arguments.\n",
    "\n",
    "An example output would be:\n",
    "\n",
    "`\"My name is Stacy Diaz. I'm a mechanical engineering student with a gpa of 3.0\"`\n",
    "\n",
    "Remember to concatenate and incorporate spacing."
   ]
  },
  {
   "cell_type": "code",
   "execution_count": null,
   "id": "a1291ad9",
   "metadata": {},
   "outputs": [],
   "source": [
    "# Enter your answer here"
   ]
  },
  {
   "cell_type": "markdown",
   "id": "b8849f85",
   "metadata": {},
   "source": [
    "# Challenge #12 - String operations"
   ]
  },
  {
   "cell_type": "markdown",
   "id": "25341c19",
   "metadata": {},
   "source": [
    "Using [string operations](https://docs.python.org/3/library/stdtypes.html#string-methods) (and not a for loop), take  the string assigned to the variable `python_project` below, and capitalize each letter of it, while assigning it to a new variable.\n",
    "\n",
    "Then, use a different string operation that makes only the first letter of the string capitalized.\n",
    "\n",
    "Finally, use a different string operation to return your variable to the original string in its orginal format, title cased."
   ]
  },
  {
   "cell_type": "code",
   "execution_count": 5,
   "id": "500eff86",
   "metadata": {},
   "outputs": [],
   "source": [
    "python_project = \"Function Approximation With Taylor Polynomials\""
   ]
  },
  {
   "cell_type": "markdown",
   "id": "b6b2ca42",
   "metadata": {},
   "source": [
    "# Challenge #13 - split() and join()"
   ]
  },
  {
   "cell_type": "markdown",
   "id": "c3bb3b2b",
   "metadata": {},
   "source": [
    "The `split()` method can be used when only certain parts of a string is needed, and `join()` is used to join elements of a sequence that are separated by a string. Given a string `string`, use these methods to return its value without any zeros."
   ]
  },
  {
   "cell_type": "code",
   "execution_count": null,
   "id": "10e6d1c0",
   "metadata": {},
   "outputs": [],
   "source": [
    "string = '5000980030014001254000007886630000'\n",
    "\n",
    "# Write your code below this line"
   ]
  },
  {
   "cell_type": "markdown",
   "id": "fd09823d",
   "metadata": {},
   "source": [
    "# Challenge #14 - replace()\n",
    "\n",
    "The replace() method replaces characters and text in a string with different characters and text.\n",
    "\n",
    "Take the string below which is set to `professor_frink_script` and replace the action description part of Professor Frink's script `(The plane crashes through the window.)` with the 🤦‍♂️ emoji using the `replace()` method.\n",
    "\n",
    "```\n",
    "professor_frink_script = \"This radio-controlled plane gives your baby the chance \n",
    "       to fly, just like my son here. He can execute the barrel-\n",
    "       roll, loop-de-loop, then bring it in for the perfect \n",
    "       landing. Whu.\n",
    "(The plane crashes through the window.)\n",
    "Oh dear, my wife is going to kill me.\"\n",
    "```"
   ]
  },
  {
   "cell_type": "code",
   "execution_count": null,
   "id": "d721e3a7",
   "metadata": {},
   "outputs": [],
   "source": [
    "professor_frink_script = \"This radio-controlled plane gives your baby the chance to fly, just like my son here. He can execute the barrel-roll, loop-de-loop, then bring it in for the perfect landing. Whu. (The plane crashes through the window.) Oh dear, my wife is going to kill me.\""
   ]
  },
  {
   "cell_type": "markdown",
   "id": "ce568470",
   "metadata": {},
   "source": [
    "# Challenge #15 - CSV Files \n",
    "\n",
    "When working with `csv` (comma seperated values) files, there are two ways to open and close the files in python.\n",
    "\n",
    "In the code block below, try opening, reading, and closing the file `mechanical_engineering_data.csv` (in the `Accompanying Material` directory), using the builtin method `open()`, to create a file object, then `.read()`, and `.close()` to work with it. Print the results to screen."
   ]
  },
  {
   "cell_type": "code",
   "execution_count": null,
   "id": "dcc3aa04",
   "metadata": {},
   "outputs": [],
   "source": []
  },
  {
   "cell_type": "markdown",
   "id": "0a27e8c2",
   "metadata": {},
   "source": [
    "# Challenge #16 - CSV Files - with, open\n",
    "\n",
    "Files in Python are not usually opened using this notation, however. It is much more common to see the [`with` syntax](https://docs.python.org/3/reference/compound_stmts.html#the-with-statement). When working with files and the program enters the indented block the `open` operation (or equivalent) is called in the background and when the program exits the indented block, the `close` operation is automatically called. \n",
    "\n",
    "E.g.\n",
    "\n",
    "```python\n",
    "with open(...) as thing:\n",
    "    # the file is opened as we enter the indent block\n",
    "    # then the file is read/written to\n",
    "\n",
    "# When the with block is left by the code, the file is closed in the background\n",
    "```\n",
    "\n",
    "Use the `with` statement below to open the `mechanical_engineering_data.csv` file and print the contents as you did in the previous exercise."
   ]
  },
  {
   "cell_type": "code",
   "execution_count": null,
   "id": "b1e8ed6f",
   "metadata": {},
   "outputs": [],
   "source": [
    "# write code below this line"
   ]
  },
  {
   "cell_type": "markdown",
   "id": "f99991f7",
   "metadata": {},
   "source": [
    "# Challenge #17 - Pandas\n",
    "\n",
    "[Pandas](https://pandas.pydata.org/docs/) is a Python library used for data analysis and maipulation. We can use Pandas to convert our `csv` file into a dataframe in order to view our data in a cleaner way.\n",
    "\n",
    "Using Pandas, print the first 5 rows of the `mechanical_engineering_data.csv` file (in the `Accompanying Material` directory) with the `.read_csv()`  and `.head()` methods. Remember to pass in the `delimeter` when reading the file. \n",
    "\n",
    "> Note: the \"delimeter\" is the character separating the data. In a \"CSV\" file (comma-separated values) it is usually (although strangely not always) the comma. Everything you need for this exercise can be found in the pandas docs linked above."
   ]
  },
  {
   "cell_type": "code",
   "execution_count": null,
   "id": "26cc223f",
   "metadata": {},
   "outputs": [],
   "source": [
    "import pandas as pd\n",
    "\n",
    "# Write code below this line"
   ]
  },
  {
   "cell_type": "markdown",
   "id": "43d91dc7",
   "metadata": {},
   "source": [
    "# Challenge #18 - Pandas - `head()` and `tail()`\n",
    "\n",
    "As you can see from the above, the `.head()` method defaults to displaying only the first five rows of a dataframe. However, we can specify the number of rows we'd like to see by passing in the integer when invoking the method.\n",
    "\n",
    "Using the `head()` method, print the first 10 rows of the dataframe."
   ]
  },
  {
   "cell_type": "code",
   "execution_count": null,
   "id": "3108d76a",
   "metadata": {},
   "outputs": [],
   "source": [
    "import pandas as pd\n",
    "\n",
    "# Write code below this line\n"
   ]
  },
  {
   "cell_type": "markdown",
   "id": "b5edcb30",
   "metadata": {},
   "source": [
    "The method `tail()` is defaulted to print the last 5 rows of a dataframe, and like `head()` a numerical value may also be passed to view more or less of the default amount. Using the `tail()` method, print the last 3 rows of the dataframe."
   ]
  },
  {
   "cell_type": "code",
   "execution_count": null,
   "id": "9f6b38c2",
   "metadata": {},
   "outputs": [],
   "source": [
    "# Write code below this line"
   ]
  },
  {
   "cell_type": "markdown",
   "id": "b6e43cc3",
   "metadata": {},
   "source": [
    "# Challenge #19 - Pandas - `dropna()`\n",
    "\n",
    "Typically, when receiving a new dataset, it will need to be cleaned due to things like missing information. This means when we receive a dataset, we may need to drop rows in order to be able to use a high quality dataset that will produce fewer errors when analyzing and visualizing. \n",
    "\n",
    "Using the `dropna()` method, remove missing values from our dataset. The rows 5, 7, 11, 47, and 48 should no longer be in the dataset as they have missing data."
   ]
  },
  {
   "cell_type": "code",
   "execution_count": null,
   "id": "24a4a82d",
   "metadata": {},
   "outputs": [],
   "source": [
    "# Write code below this line\n"
   ]
  },
  {
   "cell_type": "markdown",
   "id": "ed33d54a",
   "metadata": {},
   "source": [
    "# Challenge #20 - try/except - a tale of forgiveness\n",
    "\n",
    "The try/except statement is used to catch errors (also known as \"exceptions\") in python. Sometimes, when comething goes wrong you don't want your program to crash out and stop, but rather it should keep going. This is especially common when dealing with human input as we're all liable to make errors all the time! Think about how many times you've mistyped your password when logging into a computer or phone. Now imagine if every time you made that mistake you had to restart the whole device? This is why we have try/except!\n",
    "\n",
    "> For example, suppose you are writing a program that prompts the user to specify the path to a text file, and the user provides an invalid path. You can write your code in two ways to account for this: \n",
    ">\n",
    "> 1. Check the validity of the path before using it.\n",
    "> 2. Use the path as if it *were* valid and catch the error if something goes wrong.\n",
    "> \n",
    "> These two approaches are known as \"Look Before You Leap\" (LBYL) and \"it's Easier to Ask Forgiveness than Permission\" (EAFP) and the apporoach you use is largely down to personal preference (I usually prefer LBYL), but here we are looking at EAFP.\n",
    "\n",
    "`try/except` statements \"try\" to execute a block of code and then look for the exception the \"except\" block is set up to catch. If the expected error is thrown then the code in the `except` block will run. If no error occurs then the `except` block is *never* called.\n",
    "\n",
    "```Python\n",
    "try:\n",
    "    # This code will throw a NameError because c is not defined!\n",
    "    c = c + 1\n",
    "except NameError as e:\n",
    "    # This code is subsequently executed\n",
    "    print('NameError caught!')\n",
    "    print(e)\n",
    "```\n",
    "\n",
    "adapt the following code to follow EAFP. The error you want to catch is\n",
    "\n",
    "`FileNotFoundError`\n",
    "\n",
    "And at the end of the cell you should print the contents of the file if it was found and if it was not, you should print the dodgy path supplied by the user!\n",
    "\n",
    "The path to an exisiting file you can use for testing is \n",
    "\n",
    "`Accompanying Material/mechanical_engineering_data.csv`"
   ]
  },
  {
   "cell_type": "code",
   "execution_count": null,
   "id": "f588b5ae",
   "metadata": {},
   "outputs": [],
   "source": [
    "path = input('Path to file:')\n",
    "with open(path, 'r') as f:\n",
    "    text = f.read()\n",
    "print(text)"
   ]
  },
  {
   "cell_type": "markdown",
   "id": "780e35b2",
   "metadata": {},
   "source": [
    "OK! So now, what if a different error also occurs and we want to catch that one as well? It's pretty simple.\n",
    "\n",
    "```Python\n",
    "try:\n",
    "    # Do thing\n",
    "except (NameError, ValueError) as e:\n",
    "    print(f'exception {e} was called!')\n",
    "```\n",
    "\n",
    "We'll only ever have **one** error which is why we can say `as e`, and it doesn't become a collection. \n",
    "\n",
    "OK!! So, what if you don't know what exception you're going to get ahead of time? Well, the programmer's answer is \"you should work it out\" because it's dangerous to catch just *any* error. Most errors are good! They are the program's way of telling you something has gone wrong. In the same way that not feeling any pain *sounds* like a great idea until you put your hand on a stove for too long because you can't feel it. If you're *still really (definitely)* sure you want to do this though... then in that case you use a general exception.\n",
    "\n",
    "```Python\n",
    "try:\n",
    "    # do thing\n",
    "except Exception as e:\n",
    "    print(f'error {e} caught!')\n",
    "```\n",
    "\n",
    "Write a try/except statement where the variable `newtons_law_of_cooling` is set to a formula that tries to divide by zero. Your answer should print `\"Can't divide by zero\"`. \n",
    "\n",
    "What is the error being thrown?\n",
    "\n",
    "Adapt your code to catch *that* exception instead of any.\n",
    "\n",
    "> **WARNING, DANGER AHEAD** \n",
    ">\n",
    ">if you don't specify *any* exception  *at all* (which you can do) then Python will catch *everything*. This is known as a \"bare except\". This is actually really bad because it includes things like *Keyboard Exceptions*, in fact if you have a program with \"bare\" excepts, you may end up with zombie processes that can't be killed without restarting the computer or using the task manager. So DON'T USE THEM! You should always **always** specify an Exception or use `Exception` if you really must.\n",
    "\n",
    "You can find a list of all the builtin exceptions in the Python docs [here](https://docs.python.org/3/library/exceptions.html#concrete-exceptions) and as you become better programmers you can even start creating your own exceptions!"
   ]
  },
  {
   "cell_type": "code",
   "execution_count": null,
   "id": "724a5a48",
   "metadata": {},
   "outputs": [],
   "source": [
    "# Write code below this line"
   ]
  }
 ],
 "metadata": {
  "kernelspec": {
   "display_name": "Python 3 (ipykernel)",
   "language": "python",
   "name": "python3"
  },
  "language_info": {
   "codemirror_mode": {
    "name": "ipython",
    "version": 3
   },
   "file_extension": ".py",
   "mimetype": "text/x-python",
   "name": "python",
   "nbconvert_exporter": "python",
   "pygments_lexer": "ipython3",
   "version": "3.10.6"
  }
 },
 "nbformat": 4,
 "nbformat_minor": 5
}
