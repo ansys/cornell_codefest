{
 "cells": [
  {
   "cell_type": "markdown",
   "id": "7c592a65",
   "metadata": {},
   "source": [
    "# Challenge #2: Which Currency Hits Hardest\n",
    "\n",
    "If you were to drop a nickel off the empire state, how much damage would it do when it lands? Would it be enough to crack a paving stone?\n",
    "\n",
    "But what about other currencies? With all the currencies in the world to choose from, use PyFluent and PyMAPDL to work out the optimal currencies to wreak havoc on the sidewalks of New York. If you want, go even further and investigate fictional currenices. The solid gold [Galleons](https://harrypotter.fandom.com/wiki/Galleon) of Harry Potter, for instance, could be more effective?\n",
    "\n",
    "Write a program that takes a currency as input and presents the results of the simulations to the user.\n",
    "\n",
    "## Optional Considerations\n",
    "\n",
    "* Does the shape of the coin significantly affect the damage?\n",
    "* If it doesn't break immediately, how long will the paving stone withstand the repeated pounding of all these coins before it breaks?\n",
    "    * What if the coins don't all hit the same place?\n",
    "* What about gift cards?\n",
    "* What's happening to the coin?\n",
    "\n",
    "\n",
    "\n",
    "<img src=\"./media/coin.jpg\" alt=\"empire state coin\" width=\"400\"/>\n",
    "\n",
    "\n",
    "[image source](https://en.numista.com/catalogue/exonumia62773.html)\n",
    "\n",
    "\n",
    "## Tips\n",
    "\n",
    "* This challenge (and all the challenges) can be as hard or as easy as you want it to be\n",
    "* We will reward creative thinking, and ingenuity. You will not be penalised for going off-piste if you have a good idea you want to pursue that deviates from the challenge.\n",
    "* This challenge contains some very hard physics. Do not worry about simplifying things if you need to in the name of making a better entry.\n",
    "    * Sometimes it's fine for things to be a sphere in a vacuum!\n",
    "* E.g. assuming the coin doesn't spin is a reasonable one as this would make everything very very hard.\n",
    "    "
   ]
  },
  {
   "cell_type": "code",
   "execution_count": null,
   "id": "63584ca2",
   "metadata": {},
   "outputs": [],
   "source": []
  }
 ],
 "metadata": {
  "kernelspec": {
   "display_name": "Python 3 (ipykernel)",
   "language": "python",
   "name": "python3"
  },
  "language_info": {
   "codemirror_mode": {
    "name": "ipython",
    "version": 3
   },
   "file_extension": ".py",
   "mimetype": "text/x-python",
   "name": "python",
   "nbconvert_exporter": "python",
   "pygments_lexer": "ipython3",
   "version": "3.10.6"
  }
 },
 "nbformat": 4,
 "nbformat_minor": 5
}
