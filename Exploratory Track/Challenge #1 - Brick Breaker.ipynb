{
 "cells": [
  {
   "cell_type": "markdown",
   "id": "b19f72c9",
   "metadata": {},
   "source": [
    "# Challenge #1: Brick Breaker\n",
    "\n",
    "Use PyMAPDL to model crushing a brick. \n",
    "\n",
    "Have you ever wondered how much variation in strength is produced by the different brick designs you see in masonry? Bricks often are not simply cuboid blocks, but have holes drilled through them. Sometimes circular, sometimes not. Some bricks are almost hollowed out! Cinder blocks (breeze blocks in the UK) come to mind in particular.\n",
    "\n",
    "Create an application that lets a user specify a material and a brick geometry, that then calculates the compressive strength of that design.\n",
    "\n",
    "\n",
    "## Advanced Goal:\n",
    "\n",
    "* Consider the [compressive strength of masonry](https://theconstructor.org/building/compressive-strength-brick-masonry/6788/)\n",
    "* Can you expand your program to calculate this for your chosen bricks?\n",
    "\n",
    "\n",
    "![brick](./media/types-bricks-classification.jpg)\n",
    "[image source](https://www.aboutcivil.org/types-of-bricks.html)\n",
    "\n",
    "\n",
    "## Tips:\n",
    "\n",
    "* Consider using [ipywidgets](https://ipywidgets.readthedocs.io/en/latest/) to build a GUI if you want one, if you're happy to work in the jupyter notebook exclusively\n",
    "* Remember that these challenges are just *suggested* guides and you are free to break away from them if you wish. \n",
    "    * You will not be penalised for doing so!\n",
    "    * You will be rewarded for creativity and thinking outside the ~brick~ box\n",
    "\n"
   ]
  },
  {
   "cell_type": "code",
   "execution_count": null,
   "id": "90127fb3",
   "metadata": {},
   "outputs": [],
   "source": []
  }
 ],
 "metadata": {
  "kernelspec": {
   "display_name": "Python 3 (ipykernel)",
   "language": "python",
   "name": "python3"
  },
  "language_info": {
   "codemirror_mode": {
    "name": "ipython",
    "version": 3
   },
   "file_extension": ".py",
   "mimetype": "text/x-python",
   "name": "python",
   "nbconvert_exporter": "python",
   "pygments_lexer": "ipython3",
   "version": "3.10.6"
  }
 },
 "nbformat": 4,
 "nbformat_minor": 5
}
