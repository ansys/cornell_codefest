{
 "cells": [
  {
   "cell_type": "markdown",
   "id": "a6938ab7",
   "metadata": {},
   "source": [
    "# Challenge #4 - Report Generation\n",
    "\n",
    "Assuming you have a PyMAPDL simulation and the results, create a python package/function that will produce a word document summary of the results, on command.\n",
    "\n",
    "This report can include information like:\n",
    "\n",
    "* The mesh of the simulation\n",
    "* The number of nodes\n",
    "* The number of elements\n",
    "* The Maximum Pressure distribution\n",
    "* The Final Density distribution\n",
    "\n",
    "etc. But it doesn't have to!\n",
    "\n",
    "You can use the PyMAPDL [examples](https://mapdldocs.pyansys.com/examples/index.html) as a source of input data.\n",
    "\n",
    "## Advanced Goals:\n",
    "\n",
    "* What additional analyses can you output using PyDPF?\n",
    "* Can you extend some standard features to other PyAnsys tools like PyAEDT?\n",
    "* What if it was a jupyter notebook you were generating?\n",
    "\n",
    "![PyMAPDL example](./media/sphx_glr_pyvista_mesh_002.png)\n"
   ]
  },
  {
   "cell_type": "code",
   "execution_count": null,
   "id": "10ad71e1",
   "metadata": {},
   "outputs": [],
   "source": []
  }
 ],
 "metadata": {
  "kernelspec": {
   "display_name": "Python 3 (ipykernel)",
   "language": "python",
   "name": "python3"
  },
  "language_info": {
   "codemirror_mode": {
    "name": "ipython",
    "version": 3
   },
   "file_extension": ".py",
   "mimetype": "text/x-python",
   "name": "python",
   "nbconvert_exporter": "python",
   "pygments_lexer": "ipython3",
   "version": "3.10.6"
  }
 },
 "nbformat": 4,
 "nbformat_minor": 5
}
